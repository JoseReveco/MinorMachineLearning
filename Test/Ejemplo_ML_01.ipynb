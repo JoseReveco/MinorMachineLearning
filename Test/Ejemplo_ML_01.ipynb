{
  "nbformat": 4,
  "nbformat_minor": 0,
  "metadata": {
    "colab": {
      "name": "Ejemplo ML 01",
      "provenance": [],
      "authorship_tag": "ABX9TyOrZc5T1BKg2J1Ykpli2Sij",
      "include_colab_link": true
    },
    "kernelspec": {
      "name": "python3",
      "display_name": "Python 3"
    },
    "language_info": {
      "name": "python"
    }
  },
  "cells": [
    {
      "cell_type": "markdown",
      "metadata": {
        "id": "view-in-github",
        "colab_type": "text"
      },
      "source": [
        "<a href=\"https://colab.research.google.com/github/JoseReveco/MinorMachineLearning/blob/main/Test/Ejemplo_ML_01.ipynb\" target=\"_parent\"><img src=\"https://colab.research.google.com/assets/colab-badge.svg\" alt=\"Open In Colab\"/></a>"
      ]
    },
    {
      "cell_type": "markdown",
      "source": [
        "## Titulo N1\n",
        "\n",
        "# **Primeros pasos**\n",
        "\n",
        "El documento que estás leyendo no es una página web estática, sino un entorno interactivo denominado cuaderno de Colab que te permite escribir y ejecutar código.\n",
        "\n",
        "Por ejemplo, a continuación se muestra una celda de código con una breve secuencia de comandos de Python que calcula un valor, lo almacena en una variable e imprime el resultado:"
      ],
      "metadata": {
        "id": "MGZ3KHUPxZCK"
      }
    },
    {
      "cell_type": "code",
      "source": [
        "seconds_in_a_day = 24 * 60 * 60\n",
        "seconds_in_a_day"
      ],
      "metadata": {
        "colab": {
          "base_uri": "https://localhost:8080/"
        },
        "id": "sPhDOAssxwrK",
        "outputId": "75dacbb9-f6ac-4729-9c65-01a2f877cfb0"
      },
      "execution_count": 1,
      "outputs": [
        {
          "output_type": "execute_result",
          "data": {
            "text/plain": [
              "86400"
            ]
          },
          "metadata": {},
          "execution_count": 1
        }
      ]
    }
  ]
}