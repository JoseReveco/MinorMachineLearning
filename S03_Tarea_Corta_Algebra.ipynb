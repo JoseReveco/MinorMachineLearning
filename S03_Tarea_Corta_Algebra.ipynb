{
  "nbformat": 4,
  "nbformat_minor": 0,
  "metadata": {
    "colab": {
      "name": "S03 Tarea Corta: Algebra.ipynb",
      "provenance": [],
      "authorship_tag": "ABX9TyPNLzWOw64bJhf27WZVly9w",
      "include_colab_link": true
    },
    "kernelspec": {
      "name": "python3",
      "display_name": "Python 3"
    },
    "language_info": {
      "name": "python"
    }
  },
  "cells": [
    {
      "cell_type": "markdown",
      "metadata": {
        "id": "view-in-github",
        "colab_type": "text"
      },
      "source": [
        "<a href=\"https://colab.research.google.com/github/JoseReveco/MinorMachineLearning/blob/main/S03_Tarea_Corta_Algebra.ipynb\" target=\"_parent\"><img src=\"https://colab.research.google.com/assets/colab-badge.svg\" alt=\"Open In Colab\"/></a>"
      ]
    },
    {
      "cell_type": "markdown",
      "source": [
        "# S03 Tarea Corta: Algebra\n",
        "\n",
        "\n",
        "---\n",
        "\n",
        "\n",
        "**Alumno:** José Tomás Reveco Gaete\n",
        "\n",
        "**Asignatura:** MACHINE LEARNING (MINOR CIENCIA DE DATOS) - Sección A\n",
        "\n",
        "**Profesor:** César Astudillo\n",
        "\n",
        "**Fecha de Entrega:** 28/08/2022\n",
        "\n",
        "\n",
        "\n",
        "---\n",
        "\n",
        "\n",
        "\n",
        "Consideremos a el precio de un boleto de niño como x, y el precio de un boleto de adulto como y.\n",
        "\n",
        "Entonces, si 2 boletos de adulto y 1 boleto de niño cuestan $ 32 lo pasamos a una ecuación:\n",
        "\n",
        "`2*y + x = 32`\n",
        "\n",
        "Y hacemos lo mismo con la siguiente frase: 1 boleto de adulto y 3 boletos de niño cuestan $ 36:\n",
        "\n",
        "`y + 3*x = 36`\n",
        "\n",
        "Solo nos queda resolverlo de la forma clasica:\n",
        "\n",
        "```\n",
        "2*y + x = 32\n",
        "y + 3*x = 36\n",
        "```\n",
        "\n",
        "\n",
        "Multiplicamos por -2 la segunda ecuación y sumamos hacia abajo.\n",
        "```\n",
        "2*y + x = 32\n",
        "\n",
        "-2*y - 6*x = -72\n",
        "\n",
        "0*y - 5*x = -40\n",
        "\n",
        "-5*x = -40 \n",
        "\n",
        "5*x = 40 \n",
        "\n",
        "x = 40/5 \n",
        "\n",
        "x = 8\n",
        "```\n",
        "\n",
        "Ahora reemplazamos la x encontrada en cualquiera de las otras ecuaciones.\n",
        "```\n",
        "2y + 8 = 32\n",
        "\n",
        "2y = 32 - 8\n",
        "\n",
        "2y = 24\n",
        "\n",
        "y = 12\n",
        "```\n",
        "Concluyendo que el precio de los boletos para niños cuestan 8 y el de un adulto 12.\n",
        "\n",
        "\n"
      ],
      "metadata": {
        "id": "VQ6DYw0y1vAh"
      }
    },
    {
      "cell_type": "code",
      "source": [
        "import numpy as np\n",
        "import matplotlib.pyplot as plt\n",
        "\n",
        "# Coste adulto y niños\n",
        "#y=12\n",
        "#x=8 \n",
        "# Funciones del valor del adulto\n",
        "# y = (32 - x)/2\n",
        "# y = 36 - 3x\n",
        "# Funciones del valor del niño\n",
        "# x = 32 - 2y\n",
        "# x = (36 - y)/3 \n",
        "\n",
        "\n",
        "# Funciones del valor del adulto\n",
        "def adulto1(x):\n",
        "    return (32 - x)/2\n",
        "\n",
        "def adulto2(x):\n",
        "    return 36 - 3*x\n",
        "\n",
        "# Funciones del valor del niño\n",
        "\n",
        "def nino1(y):\n",
        "    return 32 - 2*y\n",
        "\n",
        "def nino2(y):\n",
        "    return (36 - y)/3 \n",
        "\n",
        "x = range(0, 18)\n",
        "plt.title('Costo de los boletos')\n",
        "plt.xlabel('Niños (en pesos)')\n",
        "plt.ylabel('Adultos (en pesos)')\n",
        "plt.plot(x, [adulto1(i) for i in x])\n",
        "plt.plot(x, [adulto2(i) for i in x])\n",
        "plt.plot([nino1(i) for i in x], x)\n",
        "plt.plot([nino2(i) for i in x], x)\n",
        "plt.xlim([0, 18])\n",
        "plt.ylim([0, 18])\n",
        "\n",
        "plt.axvline(x=8, color='purple', linestyle='--')\n",
        "plt.axhline(y=12, color='purple', linestyle='--')\n"
      ],
      "metadata": {
        "id": "G2nWxY-L2pjM",
        "colab": {
          "base_uri": "https://localhost:8080/",
          "height": 313
        },
        "outputId": "b798ffc1-02ac-44b2-c1cd-e681ee3008e8"
      },
      "execution_count": 99,
      "outputs": [
        {
          "output_type": "execute_result",
          "data": {
            "text/plain": [
              "<matplotlib.lines.Line2D at 0x7f33214fb8d0>"
            ]
          },
          "metadata": {},
          "execution_count": 99
        },
        {
          "output_type": "display_data",
          "data": {
            "text/plain": [
              "<Figure size 432x288 with 1 Axes>"
            ],
            "image/png": "[encoded data removed]"
          },
          "metadata": {
            "needs_background": "light"
          }
        }
      ]
    }
  ]
}